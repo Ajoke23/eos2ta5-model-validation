{
 "cells": [
  {
   "cell_type": "markdown",
   "id": "da328c6c",
   "metadata": {},
   "source": [
    "## Model Reproducibility Code"
   ]
  },
  {
   "cell_type": "markdown",
   "id": "2b46d8e1",
   "metadata": {},
   "source": [
    "## WEEK 2: TASK 2"
   ]
  },
  {
   "cell_type": "code",
   "execution_count": 1,
   "id": "f59e48ce",
   "metadata": {},
   "outputs": [],
   "source": [
    "#import necessary libraries\n",
    "import pandas as pd\n",
    "from rdkit import Chem\n",
    "from sklearn.metrics import matthews_corrcoef,accuracy_score,precision_score,confusion_matrix, f1_score,recall_score,balanced_accuracy_score\n"
   ]
  },
  {
   "cell_type": "code",
   "execution_count": 2,
   "id": "fc552187",
   "metadata": {
    "scrolled": true
   },
   "outputs": [
    {
     "data": {
      "text/html": [
       "<div>\n",
       "<style scoped>\n",
       "    .dataframe tbody tr th:only-of-type {\n",
       "        vertical-align: middle;\n",
       "    }\n",
       "\n",
       "    .dataframe tbody tr th {\n",
       "        vertical-align: top;\n",
       "    }\n",
       "\n",
       "    .dataframe thead th {\n",
       "        text-align: right;\n",
       "    }\n",
       "</style>\n",
       "<table border=\"1\" class=\"dataframe\">\n",
       "  <thead>\n",
       "    <tr style=\"text-align: right;\">\n",
       "      <th></th>\n",
       "      <th>ACTIVITY</th>\n",
       "      <th>smiles</th>\n",
       "    </tr>\n",
       "  </thead>\n",
       "  <tbody>\n",
       "    <tr>\n",
       "      <th>0</th>\n",
       "      <td>0</td>\n",
       "      <td>CCOC(=O)C1(CCN(C)CC1)c1ccccc1</td>\n",
       "    </tr>\n",
       "    <tr>\n",
       "      <th>1</th>\n",
       "      <td>0</td>\n",
       "      <td>CCN(CC)CC(=O)NC1=C(C)C=CC=C1C</td>\n",
       "    </tr>\n",
       "    <tr>\n",
       "      <th>2</th>\n",
       "      <td>0</td>\n",
       "      <td>CCCC(CCC)C(=O)O</td>\n",
       "    </tr>\n",
       "    <tr>\n",
       "      <th>3</th>\n",
       "      <td>0</td>\n",
       "      <td>CCC(COC(=O)c1cc(OC)c(OC)c(OC)c1)(c1ccccc1)N(C)C</td>\n",
       "    </tr>\n",
       "    <tr>\n",
       "      <th>4</th>\n",
       "      <td>0</td>\n",
       "      <td>COc1ccc(N(C(C)=O)c2cc3c(cc2[N+](=O)[O-])OC(C)(...</td>\n",
       "    </tr>\n",
       "  </tbody>\n",
       "</table>\n",
       "</div>"
      ],
      "text/plain": [
       "   ACTIVITY                                             smiles\n",
       "0         0                      CCOC(=O)C1(CCN(C)CC1)c1ccccc1\n",
       "1         0                      CCN(CC)CC(=O)NC1=C(C)C=CC=C1C\n",
       "2         0                                    CCCC(CCC)C(=O)O\n",
       "3         0    CCC(COC(=O)c1cc(OC)c(OC)c(OC)c1)(c1ccccc1)N(C)C\n",
       "4         0  COc1ccc(N(C(C)=O)c2cc3c(cc2[N+](=O)[O-])OC(C)(..."
      ]
     },
     "execution_count": 2,
     "metadata": {},
     "output_type": "execute_result"
    }
   ],
   "source": [
    "#reading the dataset downloaded from th publication Github page\n",
    "test= pd.read_csv('external_test_set_pos.csv')\n",
    "test.head()"
   ]
  },
  {
   "cell_type": "code",
   "execution_count": 3,
   "id": "32cc9dd7",
   "metadata": {},
   "outputs": [
    {
     "data": {
      "text/html": [
       "<div>\n",
       "<style scoped>\n",
       "    .dataframe tbody tr th:only-of-type {\n",
       "        vertical-align: middle;\n",
       "    }\n",
       "\n",
       "    .dataframe tbody tr th {\n",
       "        vertical-align: top;\n",
       "    }\n",
       "\n",
       "    .dataframe thead th {\n",
       "        text-align: right;\n",
       "    }\n",
       "</style>\n",
       "<table border=\"1\" class=\"dataframe\">\n",
       "  <thead>\n",
       "    <tr style=\"text-align: right;\">\n",
       "      <th></th>\n",
       "      <th>key</th>\n",
       "      <th>input</th>\n",
       "      <th>probability</th>\n",
       "    </tr>\n",
       "  </thead>\n",
       "  <tbody>\n",
       "    <tr>\n",
       "      <th>0</th>\n",
       "      <td>XADCESSVHJOZHK-UHFFFAOYSA-N</td>\n",
       "      <td>CCOC(=O)C1(CCN(C)CC1)c1ccccc1</td>\n",
       "      <td>0.645569</td>\n",
       "    </tr>\n",
       "    <tr>\n",
       "      <th>1</th>\n",
       "      <td>NNJVILVZKWQKPM-UHFFFAOYSA-N</td>\n",
       "      <td>CCN(CC)CC(=O)NC1=C(C)C=CC=C1C</td>\n",
       "      <td>0.088602</td>\n",
       "    </tr>\n",
       "    <tr>\n",
       "      <th>2</th>\n",
       "      <td>NIJJYAXOARWZEE-UHFFFAOYSA-N</td>\n",
       "      <td>CCCC(CCC)C(=O)O</td>\n",
       "      <td>0.042538</td>\n",
       "    </tr>\n",
       "    <tr>\n",
       "      <th>3</th>\n",
       "      <td>LORDFXWUHHSAQU-UHFFFAOYSA-N</td>\n",
       "      <td>CCC(COC(=O)c1cc(OC)c(OC)c(OC)c1)(c1ccccc1)N(C)C</td>\n",
       "      <td>0.060436</td>\n",
       "    </tr>\n",
       "    <tr>\n",
       "      <th>4</th>\n",
       "      <td>XZEITPHZKJCCSQ-UHFFFAOYSA-N</td>\n",
       "      <td>COc1ccc(N(C(C)=O)c2cc3c(cc2[N+](=O)[O-])OC(C)(...</td>\n",
       "      <td>0.038881</td>\n",
       "    </tr>\n",
       "  </tbody>\n",
       "</table>\n",
       "</div>"
      ],
      "text/plain": [
       "                           key  \\\n",
       "0  XADCESSVHJOZHK-UHFFFAOYSA-N   \n",
       "1  NNJVILVZKWQKPM-UHFFFAOYSA-N   \n",
       "2  NIJJYAXOARWZEE-UHFFFAOYSA-N   \n",
       "3  LORDFXWUHHSAQU-UHFFFAOYSA-N   \n",
       "4  XZEITPHZKJCCSQ-UHFFFAOYSA-N   \n",
       "\n",
       "                                               input  probability  \n",
       "0                      CCOC(=O)C1(CCN(C)CC1)c1ccccc1     0.645569  \n",
       "1                      CCN(CC)CC(=O)NC1=C(C)C=CC=C1C     0.088602  \n",
       "2                                    CCCC(CCC)C(=O)O     0.042538  \n",
       "3    CCC(COC(=O)c1cc(OC)c(OC)c(OC)c1)(c1ccccc1)N(C)C     0.060436  \n",
       "4  COc1ccc(N(C(C)=O)c2cc3c(cc2[N+](=O)[O-])OC(C)(...     0.038881  "
      ]
     },
     "execution_count": 3,
     "metadata": {},
     "output_type": "execute_result"
    }
   ],
   "source": [
    "#reading the prediction output that was run on ersilia\n",
    "prediction = pd.read_csv('reproducibility_prediction_output.csv')\n",
    "prediction.head()"
   ]
  },
  {
   "cell_type": "code",
   "execution_count": 4,
   "id": "cc3a7de0",
   "metadata": {},
   "outputs": [],
   "source": [
    "#set a threshold value to 0.5 \n",
    "#convert the probability column to a binary prediction\n",
    "predicted_output = (prediction['probability'] >= 0.5).astype(int)\n",
    "\n",
    "# Extract the ACTIVITY column \n",
    "test_output = test['ACTIVITY'] "
   ]
  },
  {
   "cell_type": "markdown",
   "id": "89804f6f",
   "metadata": {},
   "source": [
    "From the publication, this is the meaning of the following term:\n",
    "- tn = true negatives\n",
    "- tp = true positives\n",
    "- fp = false postives\n",
    "- fn = false negatives\n",
    "- NPV = Negative Predicted Values\n",
    "- PPV = Positive Predicted Values\n",
    "- SPE = Specificity\n",
    "- SEN = Sensitivity\n",
    "- B-ACC = Balanced Accuracy\n",
    "\n"
   ]
  },
  {
   "cell_type": "code",
   "execution_count": 7,
   "id": "93d08832",
   "metadata": {},
   "outputs": [],
   "source": [
    "# Calculate Matthews correlation coefficient\n",
    "mcc = matthews_corrcoef(test_output, predicted_output)\n",
    "\n",
    "# Calculate confusion matrix\n",
    "conf_matrix = confusion_matrix(test_output, predicted_output)\n",
    "\n",
    "# Calculate NPV\n",
    "tn, fp, fn, tp = conf_matrix.ravel()\n",
    "npv = tn / (tn + fn)\n",
    "\n",
    "# Calculate accuracy\n",
    "accuracy = accuracy_score(test_output, predicted_output)\n",
    "\n",
    "# Calculate precision \n",
    "precision = precision_score(test_output, predicted_output)#represent PPV\n",
    "\n",
    "# Calculate SPE\n",
    "spe = tn / (tn + fp)\n",
    "\n",
    "# Calculate recall\n",
    "recall = recall_score(test_output, predicted_output)\n",
    "\n",
    "# Calculate F1 score\n",
    "f1 = f1_score(test_output, predicted_output)\n",
    "\n",
    "# Calculate balanced accuracy\n",
    "balanced_accuracy = balanced_accuracy_score(test_output, predicted_output)\n",
    "\n"
   ]
  },
  {
   "cell_type": "code",
   "execution_count": 8,
   "id": "3c8cbf33",
   "metadata": {},
   "outputs": [
    {
     "name": "stdout",
     "output_type": "stream",
     "text": [
      "MCC: 0.5993902797701955\n",
      "NPV: 0.6875\n",
      "ACC: 0.8181818181818182\n",
      "PPV: 0.8928571428571429\n",
      "SPE: 0.7857142857142857\n",
      "SEN: 0.8333333333333334\n",
      "B-ACC: 0.8095238095238095\n"
     ]
    }
   ],
   "source": [
    "# Print the results\n",
    "print(\"MCC:\", mcc)\n",
    "print(\"NPV:\", npv)\n",
    "print(\"ACC:\", accuracy)\n",
    "print(\"PPV:\", precision)\n",
    "print(\"SPE:\", spe)\n",
    "print(\"SEN:\", recall)\n",
    "print(\"B-ACC:\", balanced_accuracy)\n"
   ]
  },
  {
   "cell_type": "markdown",
   "id": "ca40a546",
   "metadata": {},
   "source": [
    "From the publication, this model is reproducable because I got the output when I used **\"external_test_set_pos.csv\"** which is test 1 tset from the table below.\n",
    "LINK TO THE TABLE: [here](https://jcheminf.biomedcentral.com/articles/10.1186/s13321-021-00541-z/tables/4)"
   ]
  },
  {
   "cell_type": "code",
   "execution_count": null,
   "id": "8425ec96",
   "metadata": {},
   "outputs": [],
   "source": []
  }
 ],
 "metadata": {
  "kernelspec": {
   "display_name": "Python 3 (ipykernel)",
   "language": "python",
   "name": "python3"
  },
  "language_info": {
   "codemirror_mode": {
    "name": "ipython",
    "version": 3
   },
   "file_extension": ".py",
   "mimetype": "text/x-python",
   "name": "python",
   "nbconvert_exporter": "python",
   "pygments_lexer": "ipython3",
   "version": "3.11.5"
  }
 },
 "nbformat": 4,
 "nbformat_minor": 5
}
